{
 "cells": [
  {
   "cell_type": "markdown",
   "metadata": {},
   "source": [
    "# Initial bioacoustic analysis of the OOI cable DAS\n",
    "## Run FX plots on the datasets\n",
    "\n",
    "Author: [Léa Bouffaut](mailto:lb736'cornell.edu)\n",
    "https://www.birds.cornell.edu/ccb/lea-bouffaut/\n",
    "\n",
    "Note: a portion of that code to read OOI hdf5 data is derived from the work of Ethan Williams - https://gist.github.com/ethanfwilliams/c7c952220ac329db48f8ef159f0b169f\n"
   ]
  },
  {
   "cell_type": "markdown",
   "metadata": {},
   "source": [
    "### Initialization of the libraries"
   ]
  },
  {
   "cell_type": "code",
   "execution_count": 1,
   "metadata": {
    "scrolled": true
   },
   "outputs": [],
   "source": [
    "# Things I still want to do:\n",
    "# log is OK - Run time is still pretty slow, check if we could open a fig and plot in it instead of opening and closing it.\n",
    "# Figure saving is still an issue - \n",
    "# Another thought we could look into parallelization to improve the cose\n",
    "# Run from command line, so it doesn't stop running when I leave the notebook\n",
    "# runipy  OOI_DAS4WhaleV3_RunAll.ipynb\n",
    "\n",
    "# Install libraries missing from Google's default environment\n",
    "#!pip install pyproj\n",
    "\n",
    "# Import some other libraries we will use explicitly\n",
    "import h5py\n",
    "import numpy as np\n",
    "import scipy.signal as sp\n",
    "import matplotlib.pyplot as plt\n",
    "from datetime import datetime, timedelta\n",
    "from pyproj import Proj\n",
    "import glob\n",
    "import time\n",
    "import logging # To keep a log of the work\n",
    "logging.config.dictConfig({\n",
    "    'version': 1,\n",
    "    'disable_existing_loggers': True,\n",
    "})\n",
    "logging.basicConfig(filename=\"log.txt\", format='%(levelname)s: (asctime)s %(message)s', level=logging.DEBUG)\n"
   ]
  },
  {
   "cell_type": "markdown",
   "metadata": {},
   "source": [
    "### Definition of the functions for DAS data conditionning"
   ]
  },
  {
   "cell_type": "code",
   "execution_count": 2,
   "metadata": {},
   "outputs": [],
   "source": [
    "def get_acquisition_parameters(filename):\n",
    "    \"\"\"\n",
    "    Gets DAS aquisition parameters\n",
    "    \n",
    "    Inputs:\n",
    "    - filename, a string containing the full path to the data to load\n",
    "    \n",
    "    Outputs:\n",
    "    - fs, the sampling frequency (Hz)\n",
    "    - dx, the channel spacing (m)\n",
    "    - nx, the number of channels\n",
    "    - ns, the number of samples\n",
    "    - scale_factor, the value to convert DAS data into strain\n",
    "    \n",
    "    \"\"\"\n",
    "   \n",
    "    # From the first file in the folder, get all the information we will further need\n",
    "    fp = h5py.File(filename,'r')\n",
    "  \n",
    "    fs = fp['Acquisition']['Raw[0]'].attrs['OutputDataRate'] # sampling rate in Hz\n",
    "    dx = fp['Acquisition'].attrs['SpatialSamplingInterval'] # channel spacing in m\n",
    "    nx = fp['Acquisition']['Raw[0]'].attrs['NumberOfLoci'] # number of channels\n",
    "    ns = fp['Acquisition']['Raw[0]']['RawDataTime'].attrs['Count'] # number of samples\n",
    "    GL = fp['Acquisition'].attrs['GaugeLength'] # gauge length in m\n",
    "    n = fp['Acquisition']['Custom'].attrs['Fibre Refractive Index'] # refractive index\n",
    "    scale_factor = (2*np.pi)/2**16 * (1550.12 * 1e-9)/(0.78 * 4 * np.pi * n * GL)\n",
    "    \n",
    "    return fs, dx, nx, ns, scale_factor"
   ]
  },
  {
   "cell_type": "code",
   "execution_count": 3,
   "metadata": {},
   "outputs": [],
   "source": [
    "def raw2strain(trace,scale_factor):\n",
    "    \"\"\"\n",
    "    Transform raw data into strain\n",
    "    \n",
    "    Inputs:\n",
    "    - trace, a channel x sample nparray containing the raw recorded data data\n",
    "    \n",
    "    Outputs:\n",
    "    - tr, a channel x sample nparray containing the strain data\n",
    "    \n",
    "    \"\"\"\n",
    "    # Remove the mean trend from each channel and scale\n",
    "    mn = np.tile(np.mean(trace,axis=1),(trace.shape[1],1)).T\n",
    "    trace = trace - mn\n",
    "    trace *= scale_factor\n",
    "    return trace"
   ]
  },
  {
   "cell_type": "code",
   "execution_count": 4,
   "metadata": {},
   "outputs": [],
   "source": [
    "def load_DASdata(filename,fs, dx, selected_channels, scale_factor):\n",
    "    \"\"\"\n",
    "    Load the DAS data correspoinding to the input file name as strain accoriding to the selected channels.\n",
    "    \n",
    "    Inputs:\n",
    "    - filename, a string containing the full path to the data to load\n",
    "    \n",
    "    Outputs:\n",
    "    - trace, a channel x sample nparray containing the strain data\n",
    "    - tx, the corresponding time axis (s)\n",
    "    - dist, the corresponding distance along the FO cable axis (m)\n",
    "    - fileBeginTimeUTC, the begin time of the file, can be printed using fileBeginTimeUTC.strftime(\"%Y-%m-%d %H:%M:%S\")\n",
    "    \n",
    "    \"\"\"\n",
    "        \n",
    "    with h5py.File(filename,'r') as fp:\n",
    "\n",
    "        # Data matrix\n",
    "        rawData = fp['Acquisition']['Raw[0]']['RawData']\n",
    "\n",
    "        # Selection the traces corresponding tot he desired channels\n",
    "        trace = rawData[selected_channels[0]:selected_channels[1]:selected_channels[2],:]#.astype(float)\n",
    "        trace = raw2strain(trace,scale_factor)\n",
    "\n",
    "        # UTC Time vector for naming\n",
    "        rawDataTime = fp['Acquisition']['Raw[0]']['RawDataTime']\n",
    "        rawDataTimeArr = rawDataTime[:]\n",
    "\n",
    "        # For future save\n",
    "        fileBeginTimeUTC = datetime.utcfromtimestamp(rawDataTime[0]*1e-6)\n",
    "\n",
    "        # Store the following as the dimensions of our data block\n",
    "        nnx = trace.shape[0]\n",
    "        nns = trace.shape[1]\n",
    "\n",
    "        # Define new time and distance axes\n",
    "        tx = np.arange(nns)/fs\n",
    "        dist =(np.arange(nnx)*selected_channels[2] + selected_channels[0])*dx\n",
    "    \n",
    "    return trace, tx, dist, fileBeginTimeUTC"
   ]
  },
  {
   "cell_type": "code",
   "execution_count": 5,
   "metadata": {},
   "outputs": [],
   "source": [
    "def fk_filtering(trace, selected_channels,fs, cmin=1450, cmax=3000):\n",
    "    \"\"\"\n",
    "    Designs and apply f-k filtering to DAS strain data (trace)\n",
    "    Keeps by default data with propagation speed [1450-3000] m/s\n",
    "    Note that the chosen ChannelStep limits the bandwidth frequency obtained with fmax = 1500/ChannelStep*dx\n",
    "    \n",
    "    Inputs:\n",
    "    - trace, a channel x sample nparray containing the strain data\n",
    "    - cmin and cmax: the selected soundspeeds for the f-k \"bandpass\" filtering\n",
    "    \n",
    "    Outputs:\n",
    "    - trace, a channel x sample nparray containing the f-k-filtered strain data\n",
    "\n",
    "    \n",
    "    \"\"\"\n",
    "    # Get the dimensions of the trace data\n",
    "    nnx = trace.shape[0]\n",
    "    nns = trace.shape[1]\n",
    "    \n",
    "    # Define frequency and wavenumber axes\n",
    "    freq = np.fft.fftshift(np.fft.fftfreq(nns,d=1/fs))\n",
    "    knum = np.fft.fftshift(np.fft.fftfreq(nnx,d=selected_channels[2]*dx))\n",
    "    \n",
    "    # Calculate the frequency-wavenumber spectrum\n",
    "    fk_trace = np.fft.fftshift(np.fft.fft2(trace))\n",
    "    \n",
    "    # Supress/hide the warning\n",
    "    np.seterr(invalid='ignore')\n",
    "\n",
    "    # Create the filter\n",
    "    fk_BinaryFilterMatrix = np.ndarray(shape=fk_trace.shape, dtype=float, order='F')\n",
    "    for i in range(len(knum)):\n",
    "        if abs(knum[i]) <0.005:\n",
    "            fk_BinaryFilterMatrix[i,:] = np.zeros(shape=[len(freq)], dtype=float, order='F')            \n",
    "        else:\n",
    "            binaryLine = np.ones(shape=[len(freq)], dtype=float, order='F')\n",
    "            line = abs(freq/knum[i])\n",
    "            binaryLine[line>cmax] = 0\n",
    "            binaryLine[line<cmin] = 0\n",
    "            fk_BinaryFilterMatrix[i,:] = binaryLine\n",
    "    \n",
    "    # Apply the filter\n",
    "    fk_filtered_trace = fk_trace * fk_BinaryFilterMatrix\n",
    "    \n",
    "    # Back to the t-x domain\n",
    "    trace = np.fft.ifft2(np.fft.ifftshift(fk_filtered_trace))\n",
    "    \n",
    "    #trace = trace.real\n",
    "    \n",
    "    return trace.real"
   ]
  },
  {
   "cell_type": "code",
   "execution_count": 6,
   "metadata": {},
   "outputs": [],
   "source": [
    "def butterworth_filter(filterspec, fs):\n",
    "    filter_order, filter_critical_freq, filter_type_str = filterspec\n",
    "    # Build a filter of the desired type\n",
    "    wn = np.array(filter_critical_freq) / (fs / 2)  # convert to angular frequency\n",
    "\n",
    "    filter_sos = sp.butter(filter_order, wn, btype=filter_type_str, output='sos')\n",
    "\n",
    "    return filter_sos"
   ]
  },
  {
   "cell_type": "markdown",
   "metadata": {},
   "source": [
    "### Function specific to the entire dataset scan"
   ]
  },
  {
   "cell_type": "code",
   "execution_count": 7,
   "metadata": {},
   "outputs": [],
   "source": [
    "def plot_save_TX(trace, tx, dist, fs, selected_channels, fileBeginTimeUTC, plotsavefolder):\n",
    "    \"\"\"\n",
    "    TX plot of the strain data\n",
    "    \n",
    "    Inputs:\n",
    "    - trace, a channel x sample nparray containing the strain data\n",
    "    - cmin and cmax: the selected soundspeeds for the f-k \"bandpass\" filtering\n",
    "    \n",
    "    Outputs:\n",
    "    - trace, a channel x sample nparray containing the f-k-filtered strain data\n",
    "    \n",
    "    \"\"\"\n",
    "    \n",
    "\n",
    "    fig = plt.figure(figsize=(12,10))\n",
    "    shw = plt.imshow(abs(trace)*10**9,extent=[tx[0],tx[-1],dist[0]*1e-3,dist[-1]*1e-3,],aspect='auto',\\\n",
    "                     origin='lower',cmap='jet',vmin=0, vmax = 0.2) #vmin=-1e-10, vmax = 1e-10\n",
    "    plt.ylabel('Distance (km)')\n",
    "    plt.xlabel('Time (s)')\n",
    "    bar = plt.colorbar(shw, aspect=20) \n",
    "    bar.set_label('Strain (x$10^{-9}$)')\n",
    "\n",
    "    plt.title(fileBeginTimeUTC.strftime(\"%Y-%m-%d %H:%M:%S\"),loc='right')\n",
    "\n",
    "    \n",
    "    # Save          \n",
    "    filename = plotsavefolder + 'TX/' + fileBeginTimeUTC.strftime(\"%Y%m%d-%H%M%S\") + '.png'\n",
    "    plt.savefig(filename, bbox_inches='tight')\n",
    "    #plt.close()\n",
    "    plt.clf() \n",
    "    #plt.close(fig)\n",
    "    \n",
    "    logging.info('Saved: TX plot %s.png', fileBeginTimeUTC.strftime(\"%Y%m%d-%H%M%S\"))\n",
    "    \n",
    "    \n",
    "    "
   ]
  },
  {
   "cell_type": "code",
   "execution_count": 8,
   "metadata": {},
   "outputs": [],
   "source": [
    "def get_FX(trace, nfft):\n",
    "    fx = (abs(np.fft.fftshift(np.fft.fft(trace,nfft),axes=1)))\n",
    "    fx /= nfft\n",
    "    fx *= 10**9\n",
    "    return fx\n",
    "\n",
    "def plot_save_FX_loop(trace, dist,fs, fileBeginTimeUTC, plotsavefolder, win_s = 2, nfft = 4096):\n",
    "    ### Save 2s-long FX-plot of the FK filtered data\n",
    "    freq = np.fft.fftshift(np.fft.fftfreq(nfft,d=1/fs))\n",
    "    \n",
    "    # Run through the data\n",
    "    for ind in range(int(np.floor(trace.shape[1]/(win_s*fs)))-1):\n",
    "        fx = get_FX(trace[:,int(ind*win_s*fs):int((ind+1)*win_s*fs):1], nfft)\n",
    "\n",
    "        # Plot\n",
    "        fig = plt.figure(figsize=(12,10))\n",
    "        shw = plt.imshow(fx,extent=[freq[0],freq[-1],dist[0]*1e-3,dist[-1]*1e-3],aspect='auto',\\\n",
    "                     origin='lower', cmap='jet',vmin=0, vmax = 0.03) #1e-13 non-abs vmin=7,vmax=11\n",
    "\n",
    "        plt.xlim([0,150])\n",
    "        plt.xlabel('Frequency (Hz)')\n",
    "        plt.ylabel('Distance (km)')\n",
    "\n",
    "        # Colorbar\n",
    "        bar = plt.colorbar(shw, aspect=50)\n",
    "        bar.set_label('Strain (x$10^{-9}$)')\n",
    "\n",
    "        # Title\n",
    "        saveTime = fileBeginTimeUTC + timedelta(seconds=(ind*win_s))\n",
    "        plt.title(saveTime.strftime(\"%Y-%m-%d %H:%M:%S\"),loc='right')\n",
    "        plt.tight_layout()\n",
    "\n",
    "        # Save          \n",
    "        filename = plotsavefolder + 'FX/' + saveTime.strftime(\"%Y%m%d-%H%M%S\") + '.png'\n",
    "        plt.savefig(filename, bbox_inches='tight')\n",
    "        \n",
    "        #plt.close()\n",
    "        plt.clf() \n",
    "        plt.close(fig)\n",
    "        logging.info('Saved: FX plot %s.png', fileBeginTimeUTC.strftime(\"%Y%m%d-%H%M%S\"))"
   ]
  },
  {
   "cell_type": "markdown",
   "metadata": {},
   "source": [
    "### Reading HDF5 files and accessing metadata\n",
    "NB: Need to create these folders:\n",
    "- 'pictures/'+ datafolder + 'TX/'\n",
    "- 'pictures/'+ datafolder + 'FX/'"
   ]
  },
  {
   "cell_type": "code",
   "execution_count": 9,
   "metadata": {
    "scrolled": true
   },
   "outputs": [
    {
     "name": "stdout",
     "output_type": "stream",
     "text": [
      "pictures/Test/OptaSense/North_C3/\n"
     ]
    }
   ],
   "source": [
    "# The path all DAS datasets\n",
    "fpath = '/../../mnt/W/projects/2022_CLOCCB_OR_S1113/DASData/'\n",
    "\n",
    "datafolder = 'OptaSense/North_C3/'\n",
    "plotsavefolder = 'pictures/Test/'+ datafolder\n",
    "print(plotsavefolder)\n",
    "\n",
    "\n",
    "# List all files in this folder to be able to iterate\n",
    "# Get the name of all the annotation files .h5\n",
    "flist = glob.glob(fpath + datafolder+ \"*.h5\")\n",
    "flist.sort()\n",
    "\n",
    "# Get the acuisition parameters for the data folder\n",
    "fs, dx, nx, ns, scale_factor = get_acquisition_parameters(flist[0])\n",
    "\n",
    "# Select desired channels\n",
    "selected_channels_m = [20000, 65000, 10] # list of values in meters corresponding to the starting, \n",
    "                                         # ending and step wanted channels along the FO Cable \n",
    "                                         # selected_channels_m = [ChannelStart_m, ChannelStop_m, ChannelStep_m] \n",
    "                                         # in meters\n",
    "selected_channels = [int(np.floor(selected_channels_m/dx)) for selected_channels_m in selected_channels_m] # list of values in channel number (spatial sample) corresponding to the starting, ending and step wanted \n",
    "                                         # channels along the FO Cable \n",
    "                                         # selected_channels = [ChannelStart, ChannelStop, ChannelStep] in channel \n",
    "                                         # numbers\n",
    "# Create high-pass filter\n",
    "sos_hpfilt = butterworth_filter([2,5,'hp'], fs)\n",
    "\n",
    "# Create band-pass filter for the TX plots\n",
    "sos_bpfilt = butterworth_filter([5,[10, 30],'bp'], fs)\n"
   ]
  },
  {
   "cell_type": "markdown",
   "metadata": {},
   "source": [
    "### Loop on the list of files"
   ]
  },
  {
   "cell_type": "code",
   "execution_count": 10,
   "metadata": {
    "scrolled": true
   },
   "outputs": [
    {
     "name": "stdout",
     "output_type": "stream",
     "text": [
      "673 / 2619\n"
     ]
    },
    {
     "data": {
      "text/plain": [
       "<Figure size 864x720 with 0 Axes>"
      ]
     },
     "metadata": {},
     "output_type": "display_data"
    }
   ],
   "source": [
    "for fnb in range(673,674,1):\n",
    "    #fnb in range(673,len(flist),1):\n",
    "    #fnb = 673\n",
    "    print(fnb,'/', len(flist))\n",
    "    logging.info('Processing file #%s in the loop %s', fnb, flist[fnb])\n",
    "    \n",
    "    # Load DAS data\n",
    "    tr, tx, dist, fileBeginTimeUTC = load_DASdata(flist[fnb],fs,dx,selected_channels,scale_factor)\n",
    "    \n",
    "    # high-pass filter\n",
    "    trf = sp.sosfiltfilt(sos_hpfilt, tr, axis=1)\n",
    "    \n",
    "    # FK filter\n",
    "    # loop is taking 1.4s - not much to crunch there\n",
    "    trf_fk = fk_filtering(trf,selected_channels,fs,cmin=1450,cmax=3000)\n",
    "    \n",
    "    # TX-plot of the FK filtered data, additionally band-pass filtered \n",
    "    trff = sp.sosfiltfilt(sos_bpfilt, trf_fk, axis=1)\n",
    "    \n",
    "    \n",
    "    #start_time = time.time()\n",
    "    plot_save_TX(trff,tx,dist,fs,selected_channels,fileBeginTimeUTC,plotsavefolder)\n",
    "    #print(\"TX_plot\", time.time() - start_time, \"to run\")\n",
    "    \n",
    "    # Save 2s-long FX-plot of the FK filtered data\n",
    "    plot_save_FX_loop(trf_fk,dist,fs,fileBeginTimeUTC,plotsavefolder,win_s = 2,nfft = 4096)\n",
    "    #print(\"FX_plot\", time.time() - start_time, \"to run\")\n",
    "    \n",
    "    \n",
    "    del tr, tx, dist, fileBeginTimeUTC, trf, trf_fk, trff\n",
    "    \n",
    "#load_DASdata: 35.37819981575012 to run\n",
    "#hp_filt 3.4376015663146973 to run\n",
    "#fk_filtering 19.310954093933105 to run\n",
    "#TX_plot 21.956493377685547 to run\n",
    "#FX_plot 27.41873526573181 to run"
   ]
  }
 ],
 "metadata": {
  "celltoolbar": "Raw Cell Format",
  "kernelspec": {
   "display_name": "Python 3 (ipykernel)",
   "language": "python",
   "name": "python3"
  },
  "language_info": {
   "codemirror_mode": {
    "name": "ipython",
    "version": 3
   },
   "file_extension": ".py",
   "mimetype": "text/x-python",
   "name": "python",
   "nbconvert_exporter": "python",
   "pygments_lexer": "ipython3",
   "version": "3.8.16"
  }
 },
 "nbformat": 4,
 "nbformat_minor": 4
}
